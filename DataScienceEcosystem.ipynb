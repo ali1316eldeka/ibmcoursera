{
 "cells": [
  {
   "cell_type": "markdown",
   "id": "580575cd-a9a4-4134-8ffa-51b260b0b0e8",
   "metadata": {},
   "source": [
    "# Data Science Tools and Ecosystem\r\n"
   ]
  },
  {
   "cell_type": "markdown",
   "id": "5ab9d982-894e-4d46-b267-69a07fb138bd",
   "metadata": {},
   "source": [
    "In this notebook, Data Science Tools and Ecosystem are summarized.\r\n"
   ]
  },
  {
   "cell_type": "markdown",
   "id": "2417746a-1053-425e-b78e-7a50ceb21ced",
   "metadata": {},
   "source": [
    "Some of the popular languages that Data Scientists use are:\r\n",
    "1. Python\r\n",
    "2. R\r\n",
    "3. SQL\r\n",
    "4. Julia\r\n",
    "5. Java\r\n"
   ]
  },
  {
   "cell_type": "markdown",
   "id": "9a5cdb5a-bb48-4065-b702-4321c5774ba0",
   "metadata": {},
   "source": [
    "Some of the commonly used libraries used by Data Scientists include:\r\n",
    "1. Pandas\r\n",
    "2. NumPy\r\n",
    "3. Matplotlib\r\n",
    "4. Scikit-learn\r\n",
    "5. TensorFlow\r\n"
   ]
  },
  {
   "cell_type": "markdown",
   "id": "cf6f9b90-6aa7-4a6e-9f0c-7f0490b39315",
   "metadata": {},
   "source": [
    "| Data Science Tools |\r\n",
    "|--------------------|\r\n",
    "| Jupyter Notebooks  |\r\n",
    "| RStudio            |\r\n",
    "| Apache Zeppelin    |\r\n"
   ]
  },
  {
   "cell_type": "markdown",
   "id": "3a535aea-aea4-4564-a000-8be94da8f56a",
   "metadata": {},
   "source": [
    "### Below are a few examples of evaluating arithmetic expressions in Python.\r\n"
   ]
  },
  {
   "cell_type": "code",
   "execution_count": 1,
   "id": "0b2ffdad-687e-4f7d-8a1a-d4ef46ce4b71",
   "metadata": {},
   "outputs": [
    {
     "data": {
      "text/plain": [
       "17"
      ]
     },
     "execution_count": 1,
     "metadata": {},
     "output_type": "execute_result"
    }
   ],
   "source": [
    "# This a simple arithmetic expression to multiply then add integers\n",
    "(3*4)+5\n"
   ]
  },
  {
   "cell_type": "code",
   "execution_count": 2,
   "id": "b926aa7c-edc3-4345-8228-86d11105ff32",
   "metadata": {},
   "outputs": [
    {
     "data": {
      "text/plain": [
       "3.3333333333333335"
      ]
     },
     "execution_count": 2,
     "metadata": {},
     "output_type": "execute_result"
    }
   ],
   "source": [
    "# This will convert 200 minutes to hours by dividing by 60\n",
    "200 / 60\n"
   ]
  },
  {
   "cell_type": "markdown",
   "id": "73845dad-4256-4f11-abe5-fdc79dd103f9",
   "metadata": {},
   "source": [
    "**Objectives:**\r\n",
    "- List popular languages for Data Science\r\n",
    "- List commonly used libraries in Data Science\r\n",
    "- Create markdown and code cells in Jupyter Notebook\r\n",
    "- Evaluate arithmetic expressions in Python\r\n",
    "- Convert units (e.g., minutes to hours)\r\n"
   ]
  },
  {
   "cell_type": "markdown",
   "id": "49e870c6-abfb-49e9-b1fe-d4cb24eca64d",
   "metadata": {},
   "source": [
    "## Author\r",
    "Ali Mohamed Ali\r\n"
   ]
  },
  {
   "cell_type": "code",
   "execution_count": null,
   "id": "caaa555f-39d3-4362-9345-d9ffb94d4a0c",
   "metadata": {},
   "outputs": [],
   "source": []
  }
 ],
 "metadata": {
  "kernelspec": {
   "display_name": "Python 3 (ipykernel)",
   "language": "python",
   "name": "python3"
  },
  "language_info": {
   "codemirror_mode": {
    "name": "ipython",
    "version": 3
   },
   "file_extension": ".py",
   "mimetype": "text/x-python",
   "name": "python",
   "nbconvert_exporter": "python",
   "pygments_lexer": "ipython3",
   "version": "3.11.7"
  }
 },
 "nbformat": 4,
 "nbformat_minor": 5
}
